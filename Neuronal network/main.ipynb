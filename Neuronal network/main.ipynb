{
 "cells": [
  {
   "cell_type": "code",
   "execution_count": 1,
   "id": "d56fc20f",
   "metadata": {},
   "outputs": [
    {
     "name": "stdout",
     "output_type": "stream",
     "text": [
      "Dataset de cancer de mama:\n",
      "\n",
      "        842302  M  17.99  10.38   122.8    1001   0.1184   0.2776   0.3001  \\\n",
      "0      842517  M  20.57  17.77  132.90  1326.0  0.08474  0.07864  0.08690   \n",
      "1    84300903  M  19.69  21.25  130.00  1203.0  0.10960  0.15990  0.19740   \n",
      "2    84348301  M  11.42  20.38   77.58   386.1  0.14250  0.28390  0.24140   \n",
      "3    84358402  M  20.29  14.34  135.10  1297.0  0.10030  0.13280  0.19800   \n",
      "4      843786  M  12.45  15.70   82.57   477.1  0.12780  0.17000  0.15780   \n",
      "..        ... ..    ...    ...     ...     ...      ...      ...      ...   \n",
      "563    926424  M  21.56  22.39  142.00  1479.0  0.11100  0.11590  0.24390   \n",
      "564    926682  M  20.13  28.25  131.20  1261.0  0.09780  0.10340  0.14400   \n",
      "565    926954  M  16.60  28.08  108.30   858.1  0.08455  0.10230  0.09251   \n",
      "566    927241  M  20.60  29.33  140.10  1265.0  0.11780  0.27700  0.35140   \n",
      "567     92751  B   7.76  24.54   47.92   181.0  0.05263  0.04362  0.00000   \n",
      "\n",
      "      0.1471  ...   25.38  17.33   184.6    2019   0.1622   0.6656  0.7119  \\\n",
      "0    0.07017  ...  24.990  23.41  158.80  1956.0  0.12380  0.18660  0.2416   \n",
      "1    0.12790  ...  23.570  25.53  152.50  1709.0  0.14440  0.42450  0.4504   \n",
      "2    0.10520  ...  14.910  26.50   98.87   567.7  0.20980  0.86630  0.6869   \n",
      "3    0.10430  ...  22.540  16.67  152.20  1575.0  0.13740  0.20500  0.4000   \n",
      "4    0.08089  ...  15.470  23.75  103.40   741.6  0.17910  0.52490  0.5355   \n",
      "..       ...  ...     ...    ...     ...     ...      ...      ...     ...   \n",
      "563  0.13890  ...  25.450  26.40  166.10  2027.0  0.14100  0.21130  0.4107   \n",
      "564  0.09791  ...  23.690  38.25  155.00  1731.0  0.11660  0.19220  0.3215   \n",
      "565  0.05302  ...  18.980  34.12  126.70  1124.0  0.11390  0.30940  0.3403   \n",
      "566  0.15200  ...  25.740  39.42  184.60  1821.0  0.16500  0.86810  0.9387   \n",
      "567  0.00000  ...   9.456  30.37   59.16   268.6  0.08996  0.06444  0.0000   \n",
      "\n",
      "     0.2654  0.4601   0.1189  \n",
      "0    0.1860  0.2750  0.08902  \n",
      "1    0.2430  0.3613  0.08758  \n",
      "2    0.2575  0.6638  0.17300  \n",
      "3    0.1625  0.2364  0.07678  \n",
      "4    0.1741  0.3985  0.12440  \n",
      "..      ...     ...      ...  \n",
      "563  0.2216  0.2060  0.07115  \n",
      "564  0.1628  0.2572  0.06637  \n",
      "565  0.1418  0.2218  0.07820  \n",
      "566  0.2650  0.4087  0.12400  \n",
      "567  0.0000  0.2871  0.07039  \n",
      "\n",
      "[568 rows x 32 columns]\n"
     ]
    }
   ],
   "source": [
    "from sklearn.neural_network import MLPClassifier\n",
    "from sklearn.datasets import make_classification\n",
    "from sklearn.model_selection import train_test_split\n",
    "from scipy import stats\n",
    "import numpy as np\n",
    "import pandas as pd\n",
    "\n",
    "data = pd.read_csv('./Dataset/cancer_mama.csv')\n",
    "\n",
    "print(\"Dataset de cancer de mama:\\n\\n {}\".format(data))"
   ]
  },
  {
   "cell_type": "code",
   "execution_count": 2,
   "id": "8134368c",
   "metadata": {},
   "outputs": [
    {
     "name": "stdout",
     "output_type": "stream",
     "text": [
      "Definicion del encabezado para las columnas del dataset:\n",
      "\n",
      "            ID Result      A      B       C       D        E        F        G  \\\n",
      "0      842517      M  20.57  17.77  132.90  1326.0  0.08474  0.07864  0.08690   \n",
      "1    84300903      M  19.69  21.25  130.00  1203.0  0.10960  0.15990  0.19740   \n",
      "2    84348301      M  11.42  20.38   77.58   386.1  0.14250  0.28390  0.24140   \n",
      "3    84358402      M  20.29  14.34  135.10  1297.0  0.10030  0.13280  0.19800   \n",
      "4      843786      M  12.45  15.70   82.57   477.1  0.12780  0.17000  0.15780   \n",
      "..        ...    ...    ...    ...     ...     ...      ...      ...      ...   \n",
      "563    926424      M  21.56  22.39  142.00  1479.0  0.11100  0.11590  0.24390   \n",
      "564    926682      M  20.13  28.25  131.20  1261.0  0.09780  0.10340  0.14400   \n",
      "565    926954      M  16.60  28.08  108.30   858.1  0.08455  0.10230  0.09251   \n",
      "566    927241      M  20.60  29.33  140.10  1265.0  0.11780  0.27700  0.35140   \n",
      "567     92751      B   7.76  24.54   47.92   181.0  0.05263  0.04362  0.00000   \n",
      "\n",
      "           H  ...       U      V       W       X        Y        Z      AA  \\\n",
      "0    0.07017  ...  24.990  23.41  158.80  1956.0  0.12380  0.18660  0.2416   \n",
      "1    0.12790  ...  23.570  25.53  152.50  1709.0  0.14440  0.42450  0.4504   \n",
      "2    0.10520  ...  14.910  26.50   98.87   567.7  0.20980  0.86630  0.6869   \n",
      "3    0.10430  ...  22.540  16.67  152.20  1575.0  0.13740  0.20500  0.4000   \n",
      "4    0.08089  ...  15.470  23.75  103.40   741.6  0.17910  0.52490  0.5355   \n",
      "..       ...  ...     ...    ...     ...     ...      ...      ...     ...   \n",
      "563  0.13890  ...  25.450  26.40  166.10  2027.0  0.14100  0.21130  0.4107   \n",
      "564  0.09791  ...  23.690  38.25  155.00  1731.0  0.11660  0.19220  0.3215   \n",
      "565  0.05302  ...  18.980  34.12  126.70  1124.0  0.11390  0.30940  0.3403   \n",
      "566  0.15200  ...  25.740  39.42  184.60  1821.0  0.16500  0.86810  0.9387   \n",
      "567  0.00000  ...   9.456  30.37   59.16   268.6  0.08996  0.06444  0.0000   \n",
      "\n",
      "         AB      AC       AD  \n",
      "0    0.1860  0.2750  0.08902  \n",
      "1    0.2430  0.3613  0.08758  \n",
      "2    0.2575  0.6638  0.17300  \n",
      "3    0.1625  0.2364  0.07678  \n",
      "4    0.1741  0.3985  0.12440  \n",
      "..      ...     ...      ...  \n",
      "563  0.2216  0.2060  0.07115  \n",
      "564  0.1628  0.2572  0.06637  \n",
      "565  0.1418  0.2218  0.07820  \n",
      "566  0.2650  0.4087  0.12400  \n",
      "567  0.0000  0.2871  0.07039  \n",
      "\n",
      "[568 rows x 32 columns]\n"
     ]
    }
   ],
   "source": [
    "headerList = ['ID', 'Result', 'A', 'B', 'C', 'D', 'E', 'F', 'G', 'H', 'I', 'J', 'K', 'M', 'N', 'Ñ', 'O', 'P', 'Q', 'R', 'S', 'T', 'U', 'V', 'W', 'X', 'Y', 'Z', 'AA', 'AB', 'AC', 'AD']\n",
    "\n",
    "data.columns = headerList\n",
    "\n",
    "print(\"Definicion del encabezado para las columnas del dataset:\\n\\n {}\".format(data))"
   ]
  },
  {
   "cell_type": "code",
   "execution_count": 3,
   "id": "80738e21",
   "metadata": {},
   "outputs": [
    {
     "name": "stdout",
     "output_type": "stream",
     "text": [
      "Eliminacion de columnas sin relevancia para el caso de estudio y conversion de atributos no medibles u operables a valores enteros:\n",
      "\n",
      "      Result      A      B       C       D        E        F        G        H  \\\n",
      "0         1  20.57  17.77  132.90  1326.0  0.08474  0.07864  0.08690  0.07017   \n",
      "1         1  19.69  21.25  130.00  1203.0  0.10960  0.15990  0.19740  0.12790   \n",
      "2         1  11.42  20.38   77.58   386.1  0.14250  0.28390  0.24140  0.10520   \n",
      "3         1  20.29  14.34  135.10  1297.0  0.10030  0.13280  0.19800  0.10430   \n",
      "4         1  12.45  15.70   82.57   477.1  0.12780  0.17000  0.15780  0.08089   \n",
      "..      ...    ...    ...     ...     ...      ...      ...      ...      ...   \n",
      "563       1  21.56  22.39  142.00  1479.0  0.11100  0.11590  0.24390  0.13890   \n",
      "564       1  20.13  28.25  131.20  1261.0  0.09780  0.10340  0.14400  0.09791   \n",
      "565       1  16.60  28.08  108.30   858.1  0.08455  0.10230  0.09251  0.05302   \n",
      "566       1  20.60  29.33  140.10  1265.0  0.11780  0.27700  0.35140  0.15200   \n",
      "567       0   7.76  24.54   47.92   181.0  0.05263  0.04362  0.00000  0.00000   \n",
      "\n",
      "          I  ...       U      V       W       X        Y        Z      AA  \\\n",
      "0    0.1812  ...  24.990  23.41  158.80  1956.0  0.12380  0.18660  0.2416   \n",
      "1    0.2069  ...  23.570  25.53  152.50  1709.0  0.14440  0.42450  0.4504   \n",
      "2    0.2597  ...  14.910  26.50   98.87   567.7  0.20980  0.86630  0.6869   \n",
      "3    0.1809  ...  22.540  16.67  152.20  1575.0  0.13740  0.20500  0.4000   \n",
      "4    0.2087  ...  15.470  23.75  103.40   741.6  0.17910  0.52490  0.5355   \n",
      "..      ...  ...     ...    ...     ...     ...      ...      ...     ...   \n",
      "563  0.1726  ...  25.450  26.40  166.10  2027.0  0.14100  0.21130  0.4107   \n",
      "564  0.1752  ...  23.690  38.25  155.00  1731.0  0.11660  0.19220  0.3215   \n",
      "565  0.1590  ...  18.980  34.12  126.70  1124.0  0.11390  0.30940  0.3403   \n",
      "566  0.2397  ...  25.740  39.42  184.60  1821.0  0.16500  0.86810  0.9387   \n",
      "567  0.1587  ...   9.456  30.37   59.16   268.6  0.08996  0.06444  0.0000   \n",
      "\n",
      "         AB      AC       AD  \n",
      "0    0.1860  0.2750  0.08902  \n",
      "1    0.2430  0.3613  0.08758  \n",
      "2    0.2575  0.6638  0.17300  \n",
      "3    0.1625  0.2364  0.07678  \n",
      "4    0.1741  0.3985  0.12440  \n",
      "..      ...     ...      ...  \n",
      "563  0.2216  0.2060  0.07115  \n",
      "564  0.1628  0.2572  0.06637  \n",
      "565  0.1418  0.2218  0.07820  \n",
      "566  0.2650  0.4087  0.12400  \n",
      "567  0.0000  0.2871  0.07039  \n",
      "\n",
      "[568 rows x 31 columns]\n"
     ]
    }
   ],
   "source": [
    "del data['ID']\n",
    "\n",
    "data['Result'] = data['Result'].replace(['M', 'B'], [1, 0])\n",
    "\n",
    "print(\"Eliminacion de columnas sin relevancia para el caso de estudio y conversion de atributos no medibles u operables a valores enteros:\\n\\n {}\".format(data))"
   ]
  },
  {
   "cell_type": "code",
   "execution_count": 4,
   "id": "e2b28a60",
   "metadata": {},
   "outputs": [
    {
     "name": "stdout",
     "output_type": "stream",
     "text": [
      "Implementación de un diagrama de cajas para la visualización y mejor analisis del dataset:\n",
      "\n"
     ]
    },
    {
     "data": {
      "image/png": "[encoded data removed]",
      "text/plain": [
       "<Figure size 432x288 with 1 Axes>"
      ]
     },
     "metadata": {
      "needs_background": "light"
     },
     "output_type": "display_data"
    }
   ],
   "source": [
    "data.boxplot( column = ['Result', 'A', 'B', 'C', 'D', 'E', 'F', 'G', 'H', 'I', 'J', 'K', 'M', 'N', 'Ñ', 'O', 'P', 'Q', 'R', 'S', 'T', 'U', 'V', 'W', 'X', 'Y', 'Z', 'AA', 'AB', 'AC', 'AD'])\n",
    "\n",
    "print(\"Implementación de un diagrama de cajas para la visualización y mejor analisis del dataset:\\n\")"
   ]
  },
  {
   "cell_type": "code",
   "execution_count": 5,
   "id": "02742d9d",
   "metadata": {},
   "outputs": [
    {
     "name": "stdout",
     "output_type": "stream",
     "text": [
      "Implementación de un diagrama de cajas para la visualización y mejor análisis del dataset sin datos atípicos:\n",
      "\n"
     ]
    },
    {
     "data": {
      "image/png": "[encoded data removed]",
      "text/plain": [
       "<Figure size 432x288 with 1 Axes>"
      ]
     },
     "metadata": {
      "needs_background": "light"
     },
     "output_type": "display_data"
    }
   ],
   "source": [
    "dataCopy = data\n",
    "\n",
    "maxlimit = 0\n",
    "minlimit = 0\n",
    "\n",
    "for i in range(2, len(headerList)):\n",
    "    \n",
    "    q75 = np.quantile(data[headerList[i]],.75)\n",
    "    q25 = np.quantile(data[headerList[i]],.25)\n",
    "    intr_qr = q75 - q25\n",
    "    \n",
    "    maxlimit = q75 + (1.5 * intr_qr)\n",
    "    minlimit = q25 - (1.5 * intr_qr)\n",
    "    \n",
    "    dataCopy = dataCopy[dataCopy[headerList[i]] < maxlimit]\n",
    "    dataCopy = dataCopy[dataCopy[headerList[i]] > minlimit]\n",
    "\n",
    "data = dataCopy    \n",
    "\n",
    "data.boxplot( column = ['Result', 'A', 'B', 'C', 'D', 'E', 'F', 'G', 'H', 'I', 'J', 'K', 'M', 'N', 'Ñ', 'O', 'P', 'Q', 'R', 'S', 'T', 'U', 'V', 'W', 'X', 'Y', 'Z', 'AA', 'AB', 'AC', 'AD'])\n",
    "\n",
    "print(\"Implementación de un diagrama de cajas para la visualización y mejor análisis del dataset sin datos atípicos:\\n\")"
   ]
  },
  {
   "cell_type": "code",
   "execution_count": 6,
   "id": "0b78dbb4",
   "metadata": {},
   "outputs": [
    {
     "name": "stdout",
     "output_type": "stream",
     "text": [
      "Matriz de correlación para conjunto de datos:\n",
      "\n",
      "          Result         A         B         C         D         E         F  \\\n",
      "Result  1.000000  0.680438  0.389751  0.695617  0.697752  0.270941  0.515286   \n",
      "A       0.680438  1.000000  0.281875  0.998118  0.992040  0.054485  0.443268   \n",
      "B       0.389751  0.281875  1.000000  0.286830  0.289779 -0.046049  0.180578   \n",
      "C       0.695617  0.998118  0.286830  1.000000  0.990235  0.092502  0.493730   \n",
      "D       0.697752  0.992040  0.289779  0.990235  1.000000  0.057452  0.429607   \n",
      "E       0.270941  0.054485 -0.046049  0.092502  0.057452  1.000000  0.676284   \n",
      "F       0.515286  0.443268  0.180578  0.493730  0.429607  0.676284  1.000000   \n",
      "G       0.711026  0.658477  0.295082  0.696614  0.665299  0.464362  0.837560   \n",
      "H       0.752618  0.756046  0.239135  0.786315  0.758590  0.523037  0.805168   \n",
      "I       0.242816  0.074692  0.052130  0.101557  0.076954  0.493524  0.471631   \n",
      "J      -0.084990 -0.435614 -0.112367 -0.393039 -0.422180  0.618208  0.478068   \n",
      "K       0.571758  0.534700  0.290710  0.542733  0.561645  0.224457  0.384471   \n",
      "M       0.008796 -0.149050  0.473651 -0.144119 -0.131194  0.058113 -0.007815   \n",
      "N       0.568813  0.533202  0.293028  0.549246  0.557550  0.215550  0.466758   \n",
      "Ñ       0.703656  0.758099  0.326241  0.763624  0.786885  0.181384  0.431769   \n",
      "O      -0.035808 -0.301221  0.088900 -0.283020 -0.260527  0.331215  0.114910   \n",
      "P       0.236223  0.171626  0.210930  0.214137  0.167509  0.247984  0.701295   \n",
      "Q       0.328721  0.268103  0.241178  0.304678  0.270773  0.232819  0.638034   \n",
      "R       0.391677  0.366695  0.196998  0.398048  0.357803  0.381988  0.650908   \n",
      "S      -0.194946 -0.327293  0.011019 -0.318345 -0.308153  0.077406 -0.031905   \n",
      "T       0.069673 -0.096428  0.092092 -0.059490 -0.089167  0.294890  0.517061   \n",
      "U       0.760884  0.971262  0.312244  0.972897  0.969327  0.122170  0.488184   \n",
      "V       0.438861  0.274700  0.914682  0.281300  0.281816  0.020862  0.203598   \n",
      "W       0.768173  0.964936  0.317153  0.971605  0.962807  0.146008  0.544406   \n",
      "X       0.773446  0.957739  0.318817  0.959684  0.971030  0.124548  0.472445   \n",
      "Y       0.396150  0.086091  0.071208  0.120305  0.101151  0.803756  0.590002   \n",
      "Z       0.535434  0.417807  0.215288  0.462124  0.402038  0.433780  0.861938   \n",
      "AA      0.653815  0.563724  0.273965  0.600085  0.560104  0.372636  0.780599   \n",
      "AB      0.727626  0.683210  0.237771  0.713761  0.672670  0.464787  0.784441   \n",
      "AC      0.346715  0.136717  0.078155  0.159385  0.135755  0.375273  0.425597   \n",
      "AD      0.294268 -0.012256  0.058770  0.030067 -0.012415  0.508695  0.656944   \n",
      "\n",
      "               G         H         I  ...         U         V         W  \\\n",
      "Result  0.711026  0.752618  0.242816  ...  0.760884  0.438861  0.768173   \n",
      "A       0.658477  0.756046  0.074692  ...  0.971262  0.274700  0.964936   \n",
      "B       0.295082  0.239135  0.052130  ...  0.312244  0.914682  0.317153   \n",
      "C       0.696614  0.786315  0.101557  ...  0.972897  0.281300  0.971605   \n",
      "D       0.665299  0.758590  0.076954  ...  0.969327  0.281816  0.962807   \n",
      "E       0.464362  0.523037  0.493524  ...  0.122170  0.020862  0.146008   \n",
      "F       0.837560  0.805168  0.471631  ...  0.488184  0.203598  0.544406   \n",
      "G       1.000000  0.930270  0.366293  ...  0.697589  0.322965  0.737636   \n",
      "H       0.930270  1.000000  0.365860  ...  0.792931  0.272725  0.816931   \n",
      "I       0.366293  0.365860  1.000000  ...  0.127384  0.080152  0.148480   \n",
      "J       0.161273  0.081865  0.323912  ... -0.365772 -0.082149 -0.321685   \n",
      "K       0.515016  0.577516  0.276670  ...  0.618246  0.249530  0.607080   \n",
      "M       0.015177 -0.048190  0.071808  ... -0.139699  0.558981 -0.141249   \n",
      "N       0.570727  0.601709  0.286731  ...  0.604640  0.248557  0.623580   \n",
      "Ñ       0.634238  0.707732  0.225566  ...  0.818853  0.300674  0.808724   \n",
      "O       0.076703  0.019378  0.153154  ... -0.287951  0.025006 -0.276792   \n",
      "P       0.600870  0.439127  0.265395  ...  0.173673  0.166730  0.241482   \n",
      "Q       0.715863  0.516405  0.215756  ...  0.267448  0.201664  0.322815   \n",
      "R       0.652268  0.651570  0.272393  ...  0.354757  0.139576  0.393008   \n",
      "S      -0.099998 -0.148978  0.294770  ... -0.348822 -0.117424 -0.339118   \n",
      "T       0.364588  0.223813  0.194948  ... -0.080649  0.042800 -0.031356   \n",
      "U       0.697589  0.792931  0.127384  ...  1.000000  0.340310  0.992639   \n",
      "V       0.322965  0.272725  0.080152  ...  0.340310  1.000000  0.345320   \n",
      "W       0.737636  0.816931  0.148480  ...  0.992639  0.345320  1.000000   \n",
      "X       0.701477  0.790938  0.127825  ...  0.991376  0.345602  0.984661   \n",
      "Y       0.491063  0.509892  0.380303  ...  0.197839  0.200356  0.221226   \n",
      "Z       0.772921  0.692537  0.340956  ...  0.490426  0.288799  0.556383   \n",
      "AA      0.904939  0.794995  0.292867  ...  0.627737  0.339743  0.676385   \n",
      "AB      0.861985  0.908279  0.317342  ...  0.744441  0.315587  0.777890   \n",
      "AC      0.364051  0.361207  0.675278  ...  0.237695  0.192904  0.261000   \n",
      "AD      0.471493  0.382057  0.302373  ...  0.091230  0.153539  0.143332   \n",
      "\n",
      "               X         Y         Z        AA        AB        AC        AD  \n",
      "Result  0.773446  0.396150  0.535434  0.653815  0.727626  0.346715  0.294268  \n",
      "A       0.957739  0.086091  0.417807  0.563724  0.683210  0.136717 -0.012256  \n",
      "B       0.318817  0.071208  0.215288  0.273965  0.237771  0.078155  0.058770  \n",
      "C       0.959684  0.120305  0.462124  0.600085  0.713761  0.159385  0.030067  \n",
      "D       0.971030  0.101151  0.402038  0.560104  0.672670  0.135755 -0.012415  \n",
      "E       0.124548  0.803756  0.433780  0.372636  0.464787  0.375273  0.508695  \n",
      "F       0.472445  0.590002  0.861938  0.780599  0.784441  0.425597  0.656944  \n",
      "G       0.701477  0.491063  0.772921  0.904939  0.861985  0.364051  0.471493  \n",
      "H       0.790938  0.509892  0.692537  0.794995  0.908279  0.361207  0.382057  \n",
      "I       0.127825  0.380303  0.340956  0.292867  0.317342  0.675278  0.302373  \n",
      "J      -0.350490  0.510008  0.344396  0.162413  0.088258  0.257781  0.724436  \n",
      "K       0.635718  0.153904  0.237554  0.337275  0.425343  0.096409  0.024234  \n",
      "M      -0.120717 -0.024563 -0.121696 -0.107769 -0.141276 -0.152552 -0.097548  \n",
      "N       0.620512  0.142088  0.345519  0.413837  0.474463  0.115869  0.086008  \n",
      "Ñ       0.841862  0.167427  0.326615  0.467816  0.563129  0.130515  0.022965  \n",
      "O      -0.248447  0.410272 -0.058957 -0.061119 -0.070730 -0.074735  0.103273  \n",
      "P       0.168947  0.201913  0.710892  0.599884  0.460148  0.166510  0.501970  \n",
      "Q       0.268334  0.222331  0.614906  0.723531  0.527682  0.125215  0.393112  \n",
      "R       0.342583  0.280582  0.497604  0.544441  0.647931  0.062837  0.252004  \n",
      "S      -0.327981 -0.114273 -0.194232 -0.237570 -0.285534  0.206284 -0.109854  \n",
      "T      -0.072273  0.221814  0.462157  0.344729  0.219741  0.077885  0.658043  \n",
      "U       0.991376  0.197839  0.490426  0.627737  0.744441  0.237695  0.091230  \n",
      "V       0.345602  0.200356  0.288799  0.339743  0.315587  0.192904  0.153539  \n",
      "W       0.984661  0.221226  0.556383  0.676385  0.777890  0.261000  0.143332  \n",
      "X       1.000000  0.208688  0.471878  0.620602  0.728619  0.231782  0.089615  \n",
      "Y       0.208688  1.000000  0.540264  0.514169  0.573877  0.500554  0.624531  \n",
      "Z       0.471878  0.540264  1.000000  0.881334  0.808176  0.516464  0.756218  \n",
      "AA      0.620602  0.514169  0.881334  1.000000  0.875223  0.445749  0.596856  \n",
      "AB      0.728619  0.573877  0.808176  0.875223  1.000000  0.445063  0.509537  \n",
      "AC      0.231782  0.500554  0.516464  0.445749  0.445063  1.000000  0.481516  \n",
      "AD      0.089615  0.624531  0.756218  0.596856  0.509537  0.481516  1.000000  \n",
      "\n",
      "[31 rows x 31 columns]\n"
     ]
    }
   ],
   "source": [
    "print(\"Matriz de correlación para conjunto de datos:\\n\\n{}\".format(data.corr()))"
   ]
  },
  {
   "cell_type": "code",
   "execution_count": 7,
   "id": "b4fefaf9",
   "metadata": {},
   "outputs": [
    {
     "name": "stdout",
     "output_type": "stream",
     "text": [
      "Total de datos de entrenamiento: 238\n"
     ]
    },
    {
     "name": "stderr",
     "output_type": "stream",
     "text": [
      "/home/cristian/Anaconda/envs/PyCristian/lib/python3.9/site-packages/sklearn/neural_network/_multilayer_perceptron.py:1118: DataConversionWarning: A column-vector y was passed when a 1d array was expected. Please change the shape of y to (n_samples, ), for example using ravel().\n",
      "  y = column_or_1d(y, warn=True)\n"
     ]
    },
    {
     "name": "stdout",
     "output_type": "stream",
     "text": [
      "Precisión de la red neuronal: 0.9056603773584906\n"
     ]
    },
    {
     "name": "stderr",
     "output_type": "stream",
     "text": [
      "/home/cristian/Anaconda/envs/PyCristian/lib/python3.9/site-packages/sklearn/neural_network/_multilayer_perceptron.py:702: ConvergenceWarning: Stochastic Optimizer: Maximum iterations (200) reached and the optimization hasn't converged yet.\n",
      "  warnings.warn(\n"
     ]
    }
   ],
   "source": [
    "x = data[['A', 'B', 'C', 'D', 'E', 'F', 'G', 'H', 'I', 'J', 'K', 'M', 'N', 'Ñ', 'O', 'P', 'Q', 'R', 'S', 'T', 'U', 'V', 'W', 'X', 'Y', 'Z', 'AA', 'AB', 'AC', 'AD']]\n",
    "y = data[['Result']]\n",
    "\n",
    "X_train, X_test, y_train, y_test = train_test_split(x, y, train_size = 0.6)\n",
    "\n",
    "print(\"Total de datos de entrenamiento: {}\".format(len(X_train)))\n",
    "\n",
    "clf = MLPClassifier(max_iter = 200).fit(X_train, y_train)\n",
    "\n",
    "print(\"Precisión de la red neuronal: {}\".format(clf.score(X_test, y_test)))"
   ]
  },
  {
   "cell_type": "code",
   "execution_count": null,
   "id": "8c4a0ee3",
   "metadata": {},
   "outputs": [],
   "source": []
  }
 ],
 "metadata": {
  "kernelspec": {
   "display_name": "Python 3 (ipykernel)",
   "language": "python",
   "name": "python3"
  },
  "language_info": {
   "codemirror_mode": {
    "name": "ipython",
    "version": 3
   },
   "file_extension": ".py",
   "mimetype": "text/x-python",
   "name": "python",
   "nbconvert_exporter": "python",
   "pygments_lexer": "ipython3",
   "version": "3.9.12"
  }
 },
 "nbformat": 4,
 "nbformat_minor": 5
}
